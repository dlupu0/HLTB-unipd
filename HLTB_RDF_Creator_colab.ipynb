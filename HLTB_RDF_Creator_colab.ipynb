{
  "cells": [
    {
      "cell_type": "markdown",
      "metadata": {
        "id": "view-in-github",
        "colab_type": "text"
      },
      "source": [
        "<a href=\"https://colab.research.google.com/github/dlupu0/HLTB-unipd/blob/main/HLTB_RDF_Creator_colab.ipynb\" target=\"_parent\"><img src=\"https://colab.research.google.com/assets/colab-badge.svg\" alt=\"Open In Colab\"/></a>"
      ]
    },
    {
      "cell_type": "markdown",
      "source": [
        "# HowLongToBeat RDF Creator\n",
        "\n",
        "We load the generated CSV files and we serialize all the data into ***turtle format  (TTL)*** relying on ***RDFLib*** Python library."
      ],
      "metadata": {
        "collapsed": false,
        "id": "2C6nKK3fk2It"
      }
    },
    {
      "cell_type": "markdown",
      "source": [
        "## Setup\n",
        "\n",
        "We import all the necessary libraries and we set the paths to the input/output files. In particular, we create a TTL file for each type of data."
      ],
      "metadata": {
        "collapsed": false,
        "id": "jwh-K_Esk2Iu"
      }
    },
    {
      "cell_type": "code",
      "execution_count": null,
      "outputs": [],
      "source": [
        "# Imports\n",
        "import os\n",
        "from pathlib import Path\n",
        "import pandas as pd\n",
        "\n",
        "# Load the required libraries\n",
        "from rdflib import Graph, Literal, RDF, URIRef, Namespace\n",
        "\n",
        "# RDFLib knows about some namespaces, like XSD\n",
        "from rdflib.namespace import XSD"
      ],
      "metadata": {
        "id": "aE7LWXZnk2Iv"
      }
    },
    {
      "cell_type": "code",
      "execution_count": null,
      "outputs": [],
      "source": [
        "absPath = str(Path(os.path.abspath(os.getcwd())).absolute())\n",
        "datasetsPath = os.path.join(absPath, \"cleaned_datasets\")\n",
        "rdfPath = os.path.join(absPath, \"rdf\")\n",
        "\n",
        "# Create dataset directory if not exists\n",
        "if not os.path.exists(datasetsPath):\n",
        "    os.mkdir(datasetsPath)\n",
        "\n",
        "# Create RDF directory if not exists\n",
        "if not os.path.exists(rdfPath):\n",
        "    os.mkdir(rdfPath)\n",
        "\n",
        "# Setup datasets paths\n",
        "gamesPath = os.path.join(datasetsPath, \"games_cleaned.csv\")\n",
        "vgchartzPath = os.path.join(datasetsPath, \"vgchartz_cleaned.csv\")\n",
        "\n",
        "# Countries-Regions path\n",
        "countriesRegionsPath = os.path.join(datasetsPath, \"countries-regions.csv\")\n",
        "\n",
        "# Setup Turtle paths\n",
        "genresTTLPath = os.path.join(rdfPath, \"genres.ttl\")\n",
        "gamesTTLPath = os.path.join(rdfPath, \"games.ttl\")\n"
      ],
      "metadata": {
        "id": "tf7UNxwDk2Iv"
      }
    },
    {
      "cell_type": "code",
      "execution_count": null,
      "outputs": [],
      "source": [
        "# Country Ontology\n",
        "CNS = Namespace(\"http://eulersharp.sourceforge.net/2003/03swap/countries#\")\n",
        "\n",
        "# HLTB Ontology\n",
        "HLTB = Namespace(\"http://www.semanticweb.org/enrico/ontologies/2022/10/HLTB-db2unipd#\")"
      ],
      "metadata": {
        "id": "w03SgSPhk2Iv"
      }
    },
    {
      "cell_type": "code",
      "execution_count": null,
      "outputs": [],
      "source": [
        "def createGraph():\n",
        "    # Create the graph\n",
        "    g = Graph()\n",
        "\n",
        "    # Bind the namespaces to a prefix for more readable output\n",
        "    g.bind(\"xsd\", XSD)\n",
        "    g.bind(\"countries\", CNS)\n",
        "    g.bind(\"hltb\", HLTB)\n",
        "\n",
        "    return g"
      ],
      "metadata": {
        "id": "8d0m8AcVk2Iw"
      }
    },
    {
      "cell_type": "markdown",
      "source": [
        "## Serialization\n",
        "\n",
        "We serialize the data according to the following workflow:\n",
        "\n",
        "1. Load the CSV file and iterate through it\n",
        "2. Create a unique ID by ourself based on the name of the class.\n",
        "3. Add the node to the graph using the unique ID.\n",
        "4. Add all the data properties.\n",
        "5. Add all the object properties.\n",
        "6. Serialize the data and save them into a TTL file.\n",
        "\n",
        "### Games\n",
        "\n",
        "Now serializing the Game class"
      ],
      "metadata": {
        "collapsed": false,
        "id": "YeT8sDV8k2Iw"
      }
    },
    {
      "cell_type": "code",
      "execution_count": null,
      "outputs": [],
      "source": [
        "# Create Graph\n",
        "g = createGraph()"
      ],
      "metadata": {
        "id": "Xo1OLEQyk2Iw"
      }
    },
    {
      "cell_type": "code",
      "execution_count": null,
      "outputs": [],
      "source": [
        "# Load the CSV files in memory\n",
        "games = pd.read_csv(gamesPath, sep=\",\", index_col=\"title\")\n",
        "vgchartzPath = pd.read_csv(gamesPath, sep=\",\", index_col=\"title\")"
      ],
      "metadata": {
        "id": "0nDAeGb1k2Iw"
      }
    },
    {
      "cell_type": "code",
      "execution_count": null,
      "outputs": [],
      "source": [
        "def createGameID(title):\n",
        "    # Replace all special chars with \"-\"\n",
        "    gameID = \"\"\n",
        "    for char in title:\n",
        "        if char.isalnum():\n",
        "            gameID += char\n",
        "        elif len(gameID) > 0 and gameID[-1] != '-':\n",
        "            gameID += '-'\n",
        "    if len(gameID) > 0 and gameID[-1] == '-':\n",
        "        gameID = gameID[:-1]\n",
        "    #print(gameID.lower())\n",
        "    return gameID.lower()"
      ],
      "metadata": {
        "id": "X01mFCx2k2Iw"
      }
    },
    {
      "cell_type": "code",
      "execution_count": null,
      "outputs": [
        {
          "name": "stdout",
          "output_type": "stream",
          "text": [
            "<class 'pandas.core.frame.DataFrame'>\n",
            "Index: 35922 entries, 688(I) Hunter/Killer to Yooka-Laylee and the Impossible Lair\n",
            "Data columns (total 13 columns):\n",
            " #   Column            Non-Null Count  Dtype  \n",
            "---  ------            --------------  -----  \n",
            " 0   Unnamed: 0        35922 non-null  int64  \n",
            " 1   id                35922 non-null  int64  \n",
            " 2   main_story        17324 non-null  float64\n",
            " 3   main_plus_extras  11631 non-null  float64\n",
            " 4   completionist     13107 non-null  float64\n",
            " 5   all_styles        21112 non-null  float64\n",
            " 6   coop              183 non-null    float64\n",
            " 7   versus            274 non-null    float64\n",
            " 8   type              1314 non-null   object \n",
            " 9   developers        34080 non-null  object \n",
            " 10  publishers        32754 non-null  object \n",
            " 11  platforms         24285 non-null  object \n",
            " 12  genres            32843 non-null  object \n",
            "dtypes: float64(6), int64(2), object(5)\n",
            "memory usage: 3.8+ MB\n"
          ]
        }
      ],
      "source": [
        "# Iterate over the games\n",
        "games.info()\n",
        "for title, row in games.iterrows():\n",
        "    # Create gameID from its title\n",
        "    gameID = createGameID(title)\n",
        "\n",
        "    # Create the node to add to the Graph\n",
        "    Game = URIRef(HLTB[gameID])\n",
        "\n",
        "    # Add triples using store's add() method.\n",
        "    g.add((Game, RDF.type, HLTB.Game))\n",
        "\n",
        "    # Add the title of the game\n",
        "    g.add((Game, HLTB[\"title\"], Literal(title, datatype=XSD.string)))"
      ],
      "metadata": {
        "id": "70uUsZsak2Ix",
        "outputId": "191896bf-1698-46ed-aaf8-f5104c93fa2c"
      }
    },
    {
      "cell_type": "markdown",
      "source": [
        "## Missing all other data about games"
      ],
      "metadata": {
        "collapsed": false,
        "id": "jp4xjzfck2Ix"
      }
    },
    {
      "cell_type": "code",
      "execution_count": null,
      "outputs": [
        {
          "name": "stdout",
          "output_type": "stream",
          "text": [
            "Saved games TTL file.\n"
          ]
        }
      ],
      "source": [
        "# Save the data in the Turtle format\n",
        "with open(gamesTTLPath, \"w\", encoding=\"utf-8\") as fp:\n",
        "    fp.write(g.serialize(format=\"turtle\"))\n",
        "\n",
        "print(\"Saved games TTL file.\")"
      ],
      "metadata": {
        "id": "CsSP3upqk2Ix",
        "outputId": "1e15777d-cfd4-40a8-b08c-08ca858fcfba"
      }
    },
    {
      "cell_type": "markdown",
      "source": [
        "### Genre\n",
        "\n",
        "Now serializing the Genre class"
      ],
      "metadata": {
        "collapsed": false,
        "id": "F3yiQapik2Ix"
      }
    }
  ],
  "metadata": {
    "kernelspec": {
      "display_name": "Python 3",
      "language": "python",
      "name": "python3"
    },
    "language_info": {
      "codemirror_mode": {
        "name": "ipython",
        "version": 2
      },
      "file_extension": ".py",
      "mimetype": "text/x-python",
      "name": "python",
      "nbconvert_exporter": "python",
      "pygments_lexer": "ipython2",
      "version": "2.7.6"
    },
    "colab": {
      "provenance": [],
      "include_colab_link": true
    }
  },
  "nbformat": 4,
  "nbformat_minor": 0
}