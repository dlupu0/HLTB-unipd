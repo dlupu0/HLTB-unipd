{
 "cells": [
  {
   "cell_type": "markdown",
   "source": [
    "# HowLongToBeat RDF Creator\n",
    "\n",
    "We load the generated CSV files and we serialize all the data into ***turtle format  (TTL)*** relying on ***RDFLib*** Python library."
   ],
   "metadata": {
    "collapsed": false,
    "id": "KTj_MOZOmzfn"
   }
  },
  {
   "cell_type": "markdown",
   "source": [
    "## Setup\n",
    "\n",
    "We import all the necessary libraries and we set the paths to the input/output files. In particular, we create a TTL file for each type of data."
   ],
   "metadata": {
    "collapsed": false,
    "id": "GPtFAXlZmzfp"
   }
  },
  {
   "cell_type": "code",
   "execution_count": 49,
   "outputs": [],
   "source": [
    "# Imports\n",
    "import os\n",
    "from pathlib import Path\n",
    "import pandas as pd\n",
    "\n",
    "# Load the required libraries\n",
    "from rdflib import Graph, Literal, RDF, URIRef, Namespace\n",
    "\n",
    "# RDFLib knows about some namespaces, like XSD\n",
    "from rdflib.namespace import XSD"
   ],
   "metadata": {
    "id": "JXZwhL0Bmzfp"
   }
  },
  {
   "cell_type": "code",
   "execution_count": 50,
   "outputs": [],
   "source": [
    "absPath = str(Path(os.path.abspath(os.getcwd())).absolute())\n",
    "datasetsPath = os.path.join(absPath, \"cleaned_datasets\")\n",
    "rdfPath = os.path.join(absPath, \"rdf\")\n",
    "\n",
    "# Create dataset directory if not exists\n",
    "if not os.path.exists(datasetsPath):\n",
    "    os.mkdir(datasetsPath)\n",
    "\n",
    "# Create RDF directory if not exists\n",
    "if not os.path.exists(rdfPath):\n",
    "    os.mkdir(rdfPath)\n",
    "\n",
    "# Setup datasets paths\n",
    "gamesPath = os.path.join(datasetsPath, \"games_cleaned.csv\")\n",
    "vgchartzPath = os.path.join(datasetsPath, \"vgchartz_cleaned.csv\")\n",
    "indiegamesdevelopersPath = os.path.join(datasetsPath, \"indiegamesdevelopers_cleaned_seriesExplode.csv\")\n",
    "\n",
    "\n",
    "# Countries-Regions path\n",
    "countriesRegionsPath = os.path.join(datasetsPath, \"countries-regions.csv\")\n",
    "\n",
    "# Setup Turtle paths\n",
    "genresTTLPath = os.path.join(rdfPath, \"genres.ttl\")\n",
    "gamesTTLPath = os.path.join(rdfPath, \"games.ttl\")\n",
    "companyTTLPath = os.path.join(rdfPath, \"company.ttl\")"
   ],
   "metadata": {
    "id": "LrSYA9LWmzfq"
   }
  },
  {
   "cell_type": "code",
   "execution_count": 51,
   "outputs": [],
   "source": [
    "# Country Ontology\n",
    "CNS = Namespace(\"http://eulersharp.sourceforge.net/2003/03swap/countries#\")\n",
    "\n",
    "# HLTB Ontology\n",
    "HLTB = Namespace(\"http://www.semanticweb.org/enrico/ontologies/2022/10/HLTB-db2unipd#\")"
   ],
   "metadata": {
    "id": "rOveR-Rrmzfr"
   }
  },
  {
   "cell_type": "code",
   "execution_count": 52,
   "outputs": [],
   "source": [
    "def createGraph():\n",
    "    # Create the graph\n",
    "    g = Graph()\n",
    "\n",
    "    # Bind the namespaces to a prefix for more readable output\n",
    "    g.bind(\"xsd\", XSD)\n",
    "    g.bind(\"countries\", CNS)\n",
    "    g.bind(\"hltb\", HLTB)\n",
    "\n",
    "    return g"
   ],
   "metadata": {
    "id": "VbjlMp7fmzfr"
   }
  },
  {
   "cell_type": "markdown",
   "source": [
    "## Serialization\n",
    "\n",
    "We serialize the data according to the following workflow:\n",
    "\n",
    "1. Load the CSV file and iterate through it\n",
    "2. Create a unique ID by ourself based on the name of the class.\n",
    "3. Add the node to the graph using the unique ID.\n",
    "4. Add all the data properties.\n",
    "5. Add all the object properties.\n",
    "6. Serialize the data and save them into a TTL file.\n",
    "\n",
    "### Games\n",
    "\n",
    "Now serializing the Game class"
   ],
   "metadata": {
    "collapsed": false,
    "id": "WJv6ArAbmzfr"
   }
  },
  {
   "cell_type": "code",
   "execution_count": 53,
   "outputs": [],
   "source": [
    "# Create Graph\n",
    "g = createGraph()"
   ],
   "metadata": {
    "id": "QmQMPeKimzfr"
   }
  },
  {
   "cell_type": "code",
   "execution_count": 54,
   "outputs": [],
   "source": [
    "# Load the CSV files in memory\n",
    "games = pd.read_csv(gamesPath, sep=\",\", index_col=\"title\")\n",
    "vgchartz = pd.read_csv(vgchartzPath, sep=\",\", index_col=\"title\")\n",
    "indiegamesdevelopers = pd.read_csv(indiegamesdevelopersPath, sep=\",\")"
   ],
   "metadata": {
    "id": "GbAhlEJrmzfs"
   }
  },
  {
   "cell_type": "code",
   "execution_count": 55,
   "outputs": [],
   "source": [
    "def createGameID(title):\n",
    "    # Replace all special chars with \"-\"\n",
    "    gameID = \"\"\n",
    "    for char in title:\n",
    "        if char.isalnum():\n",
    "            gameID += char\n",
    "        elif len(gameID) > 0 and gameID[-1] != '-':\n",
    "            gameID += '-'\n",
    "    if len(gameID) > 0 and gameID[-1] == '-':\n",
    "        gameID = gameID[:-1]\n",
    "    #print(gameID.lower())\n",
    "    return gameID.lower()"
   ],
   "metadata": {
    "id": "b6haazHTmzfs"
   }
  },
  {
   "cell_type": "code",
   "execution_count": 56,
   "outputs": [],
   "source": [
    "# Iterate over the games\n",
    "for title, row in games.iterrows():\n",
    "    # Create gameID from its title\n",
    "    gameID = createGameID(title)\n",
    "\n",
    "    # Create the node to add to the Graph\n",
    "    Game = URIRef(HLTB[gameID])\n",
    "\n",
    "    # Add triples using store's add() method.\n",
    "    g.add((Game, RDF.type, HLTB.Game))\n",
    "\n",
    "    # Add the title of the game\n",
    "    g.add((Game, HLTB[\"title\"], Literal(title, datatype=XSD.string)))\n",
    "\n",
    "    # Add multiplayer focus\n",
    "    g.add((Game, HLTB[\"multiplayerFocus\"], Literal(pd.notnull(row[\"coop\"]) or pd.notnull(row[\"versus\"]), datatype=XSD.boolean)))"
   ],
   "metadata": {
    "id": "StEB0eTJmzfs",
    "outputId": "1cad1843-345b-423e-8abc-54534de54e61"
   }
  },
  {
   "cell_type": "markdown",
   "source": [
    "## Missing all other data about games"
   ],
   "metadata": {
    "collapsed": false,
    "id": "O4OpE1JNmzft"
   }
  },
  {
   "cell_type": "code",
   "execution_count": 57,
   "outputs": [
    {
     "name": "stdout",
     "output_type": "stream",
     "text": [
      "Saved games TTL file.\n"
     ]
    }
   ],
   "source": [
    "# Save the data in the Turtle format\n",
    "with open(gamesTTLPath, \"w\", encoding=\"utf-8\") as fp:\n",
    "    fp.write(g.serialize(format=\"turtle\"))\n",
    "\n",
    "print(\"Saved games TTL file.\")"
   ],
   "metadata": {
    "id": "BpR7w_vVmzft",
    "outputId": "4065b697-c57a-4aee-f351-45ece195b6b0"
   }
  },
  {
   "cell_type": "markdown",
   "source": [
    "### Genre\n",
    "\n",
    "Now serializing the Genre class"
   ],
   "metadata": {
    "collapsed": false,
    "id": "Xq17uGMEmzft"
   }
  },
  {
   "cell_type": "markdown",
   "source": [
    "Company"
   ],
   "metadata": {
    "id": "BVPWWFGcnDbO"
   }
  },
  {
   "cell_type": "code",
   "source": [
    "#replace space with -, lower case\n",
    "indiegamesdevelopers['companyID'] = indiegamesdevelopers['Developer'].replace(' ', '-', regex=True).str.lower()\n",
    "\n",
    "\n",
    "indiegamesdevelopers.info()\n",
    "for index, row in indiegamesdevelopers.iterrows():\n",
    "  # Create the node to add to the Graph\n",
    "  Company = URIRef(HLTB[row['companyID']])\n",
    "\n",
    "  # Add triples using store's add() method.\n",
    "  g.add((Company, RDF.type, HLTB.Company))\n",
    "\n",
    "  # Add the the Company\n",
    "  g.add((Company, HLTB[\"Company\"], Literal(row['Developer'], datatype=XSD.string)))\n"
   ],
   "metadata": {
    "id": "Rve2i1VonFv7"
   },
   "execution_count": 58,
   "outputs": [
    {
     "name": "stdout",
     "output_type": "stream",
     "text": [
      "<class 'pandas.core.frame.DataFrame'>\n",
      "RangeIndex: 446 entries, 0 to 445\n",
      "Data columns (total 6 columns):\n",
      " #   Column                  Non-Null Count  Dtype \n",
      "---  ------                  --------------  ----- \n",
      " 0   Unnamed: 0              446 non-null    int64 \n",
      " 1   Developer               446 non-null    object\n",
      " 2   Country                 446 non-null    object\n",
      " 3   Notable games           446 non-null    object\n",
      " 4   selected_titles_series  404 non-null    object\n",
      " 5   companyID               446 non-null    object\n",
      "dtypes: int64(1), object(5)\n",
      "memory usage: 21.0+ KB\n"
     ]
    }
   ]
  },
  {
   "cell_type": "code",
   "source": [
    "# Save the data in the Turtle format\n",
    "with open(companyTTLPath, \"w\", encoding=\"utf-8\") as fp:\n",
    "    fp.write(g.serialize(format=\"turtle\"))\n",
    "\n",
    "print(\"Saved company TTL file.\")"
   ],
   "metadata": {
    "id": "dbKlh6J9ozNy"
   },
   "execution_count": 59,
   "outputs": [
    {
     "name": "stdout",
     "output_type": "stream",
     "text": [
      "Saved company TTL file.\n",
      "Saved company TTL file.\n"
     ]
    }
   ]
  }
 ],
 "metadata": {
  "kernelspec": {
   "display_name": "Python 3",
   "language": "python",
   "name": "python3"
  },
  "language_info": {
   "codemirror_mode": {
    "name": "ipython",
    "version": 2
   },
   "file_extension": ".py",
   "mimetype": "text/x-python",
   "name": "python",
   "nbconvert_exporter": "python",
   "pygments_lexer": "ipython2",
   "version": "2.7.6"
  },
  "colab": {
   "provenance": []
  }
 },
 "nbformat": 4,
 "nbformat_minor": 0
}
