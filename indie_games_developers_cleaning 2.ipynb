{
 "cells": [
  {
   "cell_type": "code",
   "execution_count": 83,
   "metadata": {
    "colab": {
     "base_uri": "https://localhost:8080/"
    },
    "id": "tQtBiFQm1EaX",
    "outputId": "e427083a-c5b7-48fb-a30c-dc7aceaaf49e"
   },
   "outputs": [],
   "source": [
    "import pandas as pd\n",
    "import os\n",
    "from pathlib import Path\n",
    "\n",
    "absPath = str(Path(os.path.abspath(os.getcwd())).absolute())\n",
    "datasetsPath = os.path.join(absPath, \"raw_datasets\")\n",
    "cleanedDataPath = os.path.join(absPath, \"cleaned_datasets\")\n",
    "newDataPath = os.path.join(absPath, \"new_data\")\n",
    "\n"
   ]
  },
  {
   "cell_type": "code",
   "execution_count": 84,
   "metadata": {
    "id": "D3XAiuS51rXC"
   },
   "outputs": [],
   "source": [
    "# saving folder\n",
    "savePath = newDataPath\n",
    "\n",
    "# parameters and URLs\n",
    "gamesPath  = datasetsPath + \"/games.csv\"\n",
    "vgchartzPath = datasetsPath + \"/vgchartz-7_7_2020.csv\"\n",
    "indiegamesdevelopersPath = datasetsPath + \"/indie-games-developers.csv\"\n",
    "developerPath = datasetsPath + \"/video-games-developers.csv\"\n"
   ]
  },
  {
   "cell_type": "code",
   "execution_count": 105,
   "metadata": {
    "id": "XvBieS4M16Kc"
   },
   "outputs": [],
   "source": [
    "vgchartz = pd.read_csv(vgchartzPath)\n",
    "games = pd.read_csv(gamesPath)\n",
    "indiegamesdevelopers = pd.read_csv(indiegamesdevelopersPath)\n",
    "developers = pd.read_csv(developerPath)"
   ]
  },
  {
   "cell_type": "markdown",
   "metadata": {
    "id": "l6aL54xT1i7Z"
   },
   "source": [
    "games.csv cleaning"
   ]
  },
  {
   "cell_type": "code",
   "execution_count": 86,
   "metadata": {
    "colab": {
     "base_uri": "https://localhost:8080/",
     "height": 974
    },
    "id": "ni9QCjon1jRR",
    "outputId": "f488964e-ecbf-49bb-bbf7-15a48523c933"
   },
   "outputs": [
    {
     "data": {
      "text/plain": [
       "0                                      PC\n",
       "1                      Xbox 360, Xbox One\n",
       "2        PC, PlayStation 2, PlayStation 4\n",
       "3        PC, PlayStation 2, PlayStation 4\n",
       "4        PC, PlayStation 2, PlayStation 4\n",
       "                       ...               \n",
       "35917                                 NaN\n",
       "35918                                 NaN\n",
       "35919                                 NaN\n",
       "35920                                 NaN\n",
       "35921                                 NaN\n",
       "Name: platforms, Length: 35922, dtype: object"
      ]
     },
     "execution_count": 86,
     "metadata": {},
     "output_type": "execute_result"
    }
   ],
   "source": [
    "# If not present the developer place it equal to the publishers in gemes.cvs\n",
    "def isNaN(string):\n",
    "    return string != string\n",
    "\n",
    "for index, row in games.iterrows():\n",
    "    if isNaN(row[\"developers\"]) :\n",
    "        games.at[index,\"developers\"]= row[\"publishers\"]\n",
    "        \n",
    "games.drop(columns=['release_na', 'release_eu', 'release_jp'])\n",
    "games['platforms']"
   ]
  },
  {
   "cell_type": "markdown",
   "metadata": {
    "id": "EYnMT7IF3y0J"
   },
   "source": [
    "vgchartz Cleaning"
   ]
  },
  {
   "cell_type": "code",
   "execution_count": 87,
   "metadata": {
    "colab": {
     "base_uri": "https://localhost:8080/"
    },
    "id": "BhGRaeNB2_zz",
    "outputId": "0e34ca57-167f-41dd-a875-6e1b506a744b"
   },
   "outputs": [
    {
     "data": {
      "text/plain": [
       "Unnamed: 0         int64\n",
       "img               object\n",
       "title             object\n",
       "console           object\n",
       "genre             object\n",
       "publisher         object\n",
       "developer         object\n",
       "vg_score         float64\n",
       "critic_score     float64\n",
       "user_score       float64\n",
       "total_shipped    float64\n",
       "total_sales      float64\n",
       "na_sales         float64\n",
       "jp_sales         float64\n",
       "pal_sales        float64\n",
       "other_sales      float64\n",
       "release_date      object\n",
       "last_update       object\n",
       "dtype: object"
      ]
     },
     "execution_count": 87,
     "metadata": {},
     "output_type": "execute_result"
    }
   ],
   "source": [
    "vgchartz.astype({'vg_score': 'float'}).dtypes\n",
    "vgchartz.astype({'critic_score': 'float'}).dtypes\n",
    "vgchartz.astype({'user_score': 'float'}).dtypes\n",
    "vgchartz.astype({'total_shipped': 'float'}).dtypes\n",
    "vgchartz.astype({'total_sales': 'float'}).dtypes\n",
    "vgchartz.astype({'na_sales': 'float'}).dtypes\n",
    "vgchartz.astype({'jp_sales': 'float'}).dtypes\n",
    "vgchartz.astype({'other_sales': 'float'}).dtypes"
   ]
  },
  {
   "cell_type": "code",
   "execution_count": 88,
   "metadata": {
    "colab": {
     "base_uri": "https://localhost:8080/"
    },
    "id": "LFiB4xFP3rRV",
    "outputId": "0f12c151-0a75-4755-9200-f12aa0c8a3da"
   },
   "outputs": [
    {
     "name": "stdout",
     "output_type": "stream",
     "text": [
      "<class 'pandas.core.frame.DataFrame'>\n",
      "RangeIndex: 57950 entries, 0 to 57949\n",
      "Data columns (total 18 columns):\n",
      " #   Column         Non-Null Count  Dtype  \n",
      "---  ------         --------------  -----  \n",
      " 0   Unnamed: 0     57950 non-null  int64  \n",
      " 1   img            57950 non-null  object \n",
      " 2   title          57950 non-null  object \n",
      " 3   console        57950 non-null  object \n",
      " 4   genre          57950 non-null  object \n",
      " 5   publisher      57950 non-null  object \n",
      " 6   developer      57933 non-null  object \n",
      " 7   vg_score       984 non-null    float64\n",
      " 8   critic_score   6544 non-null   float64\n",
      " 9   user_score     386 non-null    float64\n",
      " 10  total_shipped  2373 non-null   float64\n",
      " 11  total_sales    19319 non-null  float64\n",
      " 12  na_sales       12900 non-null  float64\n",
      " 13  jp_sales       6993 non-null   float64\n",
      " 14  pal_sales      13111 non-null  float64\n",
      " 15  other_sales    15440 non-null  float64\n",
      " 16  release_date   54296 non-null  object \n",
      " 17  last_update    11763 non-null  object \n",
      "dtypes: float64(9), int64(1), object(8)\n",
      "memory usage: 8.0+ MB\n"
     ]
    }
   ],
   "source": [
    "vgchartz.info()"
   ]
  },
  {
   "cell_type": "code",
   "execution_count": 89,
   "metadata": {
    "colab": {
     "base_uri": "https://localhost:8080/",
     "height": 676
    },
    "id": "qECchNjL3tJp",
    "outputId": "eae41218-3416-40cc-90de-3ddba220440b"
   },
   "outputs": [
    {
     "data": {
      "text/html": [
       "<div>\n",
       "<style scoped>\n",
       "    .dataframe tbody tr th:only-of-type {\n",
       "        vertical-align: middle;\n",
       "    }\n",
       "\n",
       "    .dataframe tbody tr th {\n",
       "        vertical-align: top;\n",
       "    }\n",
       "\n",
       "    .dataframe thead th {\n",
       "        text-align: right;\n",
       "    }\n",
       "</style>\n",
       "<table border=\"1\" class=\"dataframe\">\n",
       "  <thead>\n",
       "    <tr style=\"text-align: right;\">\n",
       "      <th></th>\n",
       "      <th>title</th>\n",
       "      <th>console</th>\n",
       "      <th>vg_score</th>\n",
       "      <th>critic_score</th>\n",
       "      <th>user_score</th>\n",
       "      <th>total_shipped</th>\n",
       "      <th>total_sales</th>\n",
       "      <th>na_sales</th>\n",
       "      <th>jp_sales</th>\n",
       "      <th>other_sales</th>\n",
       "    </tr>\n",
       "  </thead>\n",
       "  <tbody>\n",
       "    <tr>\n",
       "      <th>1</th>\n",
       "      <td>Devil May Cry</td>\n",
       "      <td>PS2</td>\n",
       "      <td>NaN</td>\n",
       "      <td>9.1</td>\n",
       "      <td>9.3</td>\n",
       "      <td>2.16</td>\n",
       "      <td>NaN</td>\n",
       "      <td>NaN</td>\n",
       "      <td>NaN</td>\n",
       "      <td>NaN</td>\n",
       "    </tr>\n",
       "    <tr>\n",
       "      <th>2</th>\n",
       "      <td>Devil May Cry</td>\n",
       "      <td>NS</td>\n",
       "      <td>NaN</td>\n",
       "      <td>NaN</td>\n",
       "      <td>NaN</td>\n",
       "      <td>NaN</td>\n",
       "      <td>NaN</td>\n",
       "      <td>NaN</td>\n",
       "      <td>NaN</td>\n",
       "      <td>NaN</td>\n",
       "    </tr>\n",
       "    <tr>\n",
       "      <th>3</th>\n",
       "      <td>Grand Theft Auto V</td>\n",
       "      <td>PS3</td>\n",
       "      <td>NaN</td>\n",
       "      <td>9.4</td>\n",
       "      <td>NaN</td>\n",
       "      <td>NaN</td>\n",
       "      <td>20.32</td>\n",
       "      <td>6.37</td>\n",
       "      <td>0.99</td>\n",
       "      <td>3.12</td>\n",
       "    </tr>\n",
       "    <tr>\n",
       "      <th>4</th>\n",
       "      <td>Grand Theft Auto V</td>\n",
       "      <td>PS4</td>\n",
       "      <td>NaN</td>\n",
       "      <td>9.7</td>\n",
       "      <td>NaN</td>\n",
       "      <td>NaN</td>\n",
       "      <td>19.39</td>\n",
       "      <td>6.06</td>\n",
       "      <td>0.60</td>\n",
       "      <td>3.02</td>\n",
       "    </tr>\n",
       "    <tr>\n",
       "      <th>5</th>\n",
       "      <td>Grand Theft Auto V</td>\n",
       "      <td>X360</td>\n",
       "      <td>NaN</td>\n",
       "      <td>NaN</td>\n",
       "      <td>NaN</td>\n",
       "      <td>NaN</td>\n",
       "      <td>15.86</td>\n",
       "      <td>9.06</td>\n",
       "      <td>0.06</td>\n",
       "      <td>1.42</td>\n",
       "    </tr>\n",
       "    <tr>\n",
       "      <th>...</th>\n",
       "      <td>...</td>\n",
       "      <td>...</td>\n",
       "      <td>...</td>\n",
       "      <td>...</td>\n",
       "      <td>...</td>\n",
       "      <td>...</td>\n",
       "      <td>...</td>\n",
       "      <td>...</td>\n",
       "      <td>...</td>\n",
       "      <td>...</td>\n",
       "    </tr>\n",
       "    <tr>\n",
       "      <th>26010</th>\n",
       "      <td>The 25th Ward: The Silver Case</td>\n",
       "      <td>PS4</td>\n",
       "      <td>NaN</td>\n",
       "      <td>NaN</td>\n",
       "      <td>NaN</td>\n",
       "      <td>NaN</td>\n",
       "      <td>NaN</td>\n",
       "      <td>NaN</td>\n",
       "      <td>NaN</td>\n",
       "      <td>NaN</td>\n",
       "    </tr>\n",
       "    <tr>\n",
       "      <th>26011</th>\n",
       "      <td>The 25th Ward: The Silver Case</td>\n",
       "      <td>PC</td>\n",
       "      <td>NaN</td>\n",
       "      <td>NaN</td>\n",
       "      <td>NaN</td>\n",
       "      <td>NaN</td>\n",
       "      <td>NaN</td>\n",
       "      <td>NaN</td>\n",
       "      <td>NaN</td>\n",
       "      <td>NaN</td>\n",
       "    </tr>\n",
       "    <tr>\n",
       "      <th>26012</th>\n",
       "      <td>The Mind's Eclipse</td>\n",
       "      <td>PC</td>\n",
       "      <td>7.0</td>\n",
       "      <td>NaN</td>\n",
       "      <td>NaN</td>\n",
       "      <td>NaN</td>\n",
       "      <td>NaN</td>\n",
       "      <td>NaN</td>\n",
       "      <td>NaN</td>\n",
       "      <td>NaN</td>\n",
       "    </tr>\n",
       "    <tr>\n",
       "      <th>26013</th>\n",
       "      <td>Without Within</td>\n",
       "      <td>PC</td>\n",
       "      <td>NaN</td>\n",
       "      <td>NaN</td>\n",
       "      <td>NaN</td>\n",
       "      <td>NaN</td>\n",
       "      <td>NaN</td>\n",
       "      <td>NaN</td>\n",
       "      <td>NaN</td>\n",
       "      <td>NaN</td>\n",
       "    </tr>\n",
       "    <tr>\n",
       "      <th>26014</th>\n",
       "      <td>Without Within 2</td>\n",
       "      <td>PC</td>\n",
       "      <td>NaN</td>\n",
       "      <td>NaN</td>\n",
       "      <td>NaN</td>\n",
       "      <td>NaN</td>\n",
       "      <td>NaN</td>\n",
       "      <td>NaN</td>\n",
       "      <td>NaN</td>\n",
       "      <td>NaN</td>\n",
       "    </tr>\n",
       "  </tbody>\n",
       "</table>\n",
       "<p>25867 rows × 10 columns</p>\n",
       "</div>"
      ],
      "text/plain": [
       "                                title console  vg_score  critic_score  \\\n",
       "1                       Devil May Cry     PS2       NaN           9.1   \n",
       "2                       Devil May Cry      NS       NaN           NaN   \n",
       "3                  Grand Theft Auto V     PS3       NaN           9.4   \n",
       "4                  Grand Theft Auto V     PS4       NaN           9.7   \n",
       "5                  Grand Theft Auto V    X360       NaN           NaN   \n",
       "...                               ...     ...       ...           ...   \n",
       "26010  The 25th Ward: The Silver Case     PS4       NaN           NaN   \n",
       "26011  The 25th Ward: The Silver Case      PC       NaN           NaN   \n",
       "26012              The Mind's Eclipse      PC       7.0           NaN   \n",
       "26013                  Without Within      PC       NaN           NaN   \n",
       "26014                Without Within 2      PC       NaN           NaN   \n",
       "\n",
       "       user_score  total_shipped  total_sales  na_sales  jp_sales  other_sales  \n",
       "1             9.3           2.16          NaN       NaN       NaN          NaN  \n",
       "2             NaN            NaN          NaN       NaN       NaN          NaN  \n",
       "3             NaN            NaN        20.32      6.37      0.99         3.12  \n",
       "4             NaN            NaN        19.39      6.06      0.60         3.02  \n",
       "5             NaN            NaN        15.86      9.06      0.06         1.42  \n",
       "...           ...            ...          ...       ...       ...          ...  \n",
       "26010         NaN            NaN          NaN       NaN       NaN          NaN  \n",
       "26011         NaN            NaN          NaN       NaN       NaN          NaN  \n",
       "26012         NaN            NaN          NaN       NaN       NaN          NaN  \n",
       "26013         NaN            NaN          NaN       NaN       NaN          NaN  \n",
       "26014         NaN            NaN          NaN       NaN       NaN          NaN  \n",
       "\n",
       "[25867 rows x 10 columns]"
      ]
     },
     "execution_count": 89,
     "metadata": {},
     "output_type": "execute_result"
    }
   ],
   "source": [
    "# match the title with games.csv's title\n",
    "vgchartz = pd.merge(vgchartz, games['title'], how ='inner', on =['title'])\n",
    "#clean Series\n",
    "vgchartz = vgchartz.drop(vgchartz[vgchartz.console ==\"Series\"].index)\n",
    "#drop unwanted columns\n",
    "vgchartz.drop(columns=['Unnamed: 0','img', 'genre', 'publisher', 'developer', 'pal_sales', 'release_date', 'last_update'])\n"
   ]
  },
  {
   "cell_type": "code",
   "execution_count": 90,
   "metadata": {
    "id": "rqXy0qZygeE1"
   },
   "outputs": [],
   "source": [
    "vgchartzfilename = savePath +'vgchartz_cleaned.csv'\n",
    "#vgchartz.to_csv(filename) "
   ]
  },
  {
   "cell_type": "markdown",
   "metadata": {
    "id": "RcP6oSXi34CA"
   },
   "source": [
    "**indie-games-developers_cleaning**"
   ]
  },
  {
   "cell_type": "code",
   "execution_count": 91,
   "metadata": {
    "id": "kDsq_SYpKVRQ"
   },
   "outputs": [],
   "source": [
    "# match the developer with games.csv's developer\n",
    "collect = games.groupby('developers')['title'].apply(list).reset_index(name='game_titles')\n",
    "collect.rename(columns={'developers': 'Developer'}, inplace=True)\n",
    "collect['Developer'] = collect['Developer'].apply(lambda x:x.lower())\n",
    "indiegamesdevelopers['Developer'] = indiegamesdevelopers['Developer'].apply(lambda x:x.lower())\n",
    "\n",
    "indiegamesdevelopers = indiegamesdevelopers.merge(collect, how ='inner', on =['Developer'])\n",
    "indiegamesdevelopers = indiegamesdevelopers.drop(columns=['City', 'Autonomous area', 'Notes'])\n",
    "indiegamesdevelopers = indiegamesdevelopers.dropna()\n",
    "\n",
    "\n",
    "def match_title(ind, game_titles, Notable_games):\n",
    "  matched_titles = []\n",
    "  for w in game_titles:    \n",
    "    if w in Notable_games:\n",
    "      matched_titles.append(w)\n",
    "  indiegamesdevelopers['selected_titles'][ind] = matched_titles\n",
    "\n",
    "def match_title_include_series(ind, game_titles, Notable_games):\n",
    "  matched_titles = []\n",
    "  for w in game_titles:\n",
    "    if 'series' in Notable_games :\n",
    "      w_words=w.split()\n",
    "      for item in w_words:\n",
    "        if item in Notable_games:\n",
    "          matched_titles.append(w)\n",
    "\n",
    "    elif w in Notable_games:\n",
    "      matched_titles.append(w)\n",
    "      \n",
    "  matched_titles = list(set(matched_titles)) \n",
    "  indiegamesdevelopers['selected_titles_series'][ind] = matched_titles\n",
    "\n",
    "\n",
    "indiegamesdevelopers['selected_titles']=''\n",
    "indiegamesdevelopers['selected_titles_series']=''\n",
    "for ind in indiegamesdevelopers.index:\n",
    "  match_title(ind, indiegamesdevelopers['game_titles'][ind], indiegamesdevelopers['Notable games'][ind])\n",
    "  match_title_include_series(ind, indiegamesdevelopers['game_titles'][ind], indiegamesdevelopers['Notable games'][ind])\n",
    "\n",
    "indiegamesdevelopers = indiegamesdevelopers.drop(columns=['game_titles'])\n",
    "\n"
   ]
  },
  {
   "cell_type": "code",
   "execution_count": 92,
   "metadata": {
    "colab": {
     "base_uri": "https://localhost:8080/",
     "height": 4268
    },
    "id": "5ieAz6BTN8O0",
    "outputId": "8fa4917a-fa74-44aa-f1ac-6954f2795c4d"
   },
   "outputs": [
    {
     "data": {
      "text/html": [
       "<div>\n",
       "<style scoped>\n",
       "    .dataframe tbody tr th:only-of-type {\n",
       "        vertical-align: middle;\n",
       "    }\n",
       "\n",
       "    .dataframe tbody tr th {\n",
       "        vertical-align: top;\n",
       "    }\n",
       "\n",
       "    .dataframe thead th {\n",
       "        text-align: right;\n",
       "    }\n",
       "</style>\n",
       "<table border=\"1\" class=\"dataframe\">\n",
       "  <thead>\n",
       "    <tr style=\"text-align: right;\">\n",
       "      <th></th>\n",
       "      <th>Developer</th>\n",
       "      <th>Country</th>\n",
       "      <th>Notable games</th>\n",
       "      <th>selected_titles</th>\n",
       "      <th>selected_titles_series</th>\n",
       "    </tr>\n",
       "  </thead>\n",
       "  <tbody>\n",
       "    <tr>\n",
       "      <th>0</th>\n",
       "      <td>11 bit studios</td>\n",
       "      <td>Poland</td>\n",
       "      <td>AnomalyThis War of MineFrostpunk</td>\n",
       "      <td>[]</td>\n",
       "      <td>[]</td>\n",
       "    </tr>\n",
       "    <tr>\n",
       "      <th>1</th>\n",
       "      <td>11 bit studios</td>\n",
       "      <td>Poland</td>\n",
       "      <td>AnomalyThis War of MineFrostpunk</td>\n",
       "      <td>[This War of Mine, Frostpunk]</td>\n",
       "      <td>[This War of Mine, Frostpunk]</td>\n",
       "    </tr>\n",
       "    <tr>\n",
       "      <th>2</th>\n",
       "      <td>ace team</td>\n",
       "      <td>Chile</td>\n",
       "      <td>Zeno ClashRock of Ages</td>\n",
       "      <td>[Rock of Ages, Zeno Clash]</td>\n",
       "      <td>[Rock of Ages, Zeno Clash]</td>\n",
       "    </tr>\n",
       "    <tr>\n",
       "      <th>3</th>\n",
       "      <td>alientrap</td>\n",
       "      <td>Canada</td>\n",
       "      <td>CapsizedApotheon</td>\n",
       "      <td>[Apotheon]</td>\n",
       "      <td>[Apotheon]</td>\n",
       "    </tr>\n",
       "    <tr>\n",
       "      <th>4</th>\n",
       "      <td>ambrosia software</td>\n",
       "      <td>United States</td>\n",
       "      <td>Escape Velocity series</td>\n",
       "      <td>[Escape Velocity]</td>\n",
       "      <td>[Escape Velocity, Escape Velocity Override]</td>\n",
       "    </tr>\n",
       "    <tr>\n",
       "      <th>...</th>\n",
       "      <td>...</td>\n",
       "      <td>...</td>\n",
       "      <td>...</td>\n",
       "      <td>...</td>\n",
       "      <td>...</td>\n",
       "    </tr>\n",
       "    <tr>\n",
       "      <th>154</th>\n",
       "      <td>zoetrope interactive</td>\n",
       "      <td>Turkey</td>\n",
       "      <td>Darkness WithinDarkness Within: The Dark Lineage</td>\n",
       "      <td>[]</td>\n",
       "      <td>[]</td>\n",
       "    </tr>\n",
       "    <tr>\n",
       "      <th>155</th>\n",
       "      <td>zoink</td>\n",
       "      <td>Sweden</td>\n",
       "      <td>PlayStation All-Stars IslandThe Kore Gang</td>\n",
       "      <td>[]</td>\n",
       "      <td>[]</td>\n",
       "    </tr>\n",
       "    <tr>\n",
       "      <th>156</th>\n",
       "      <td>zoonami</td>\n",
       "      <td>United Kingdom</td>\n",
       "      <td>ZendokuBonsai Barber</td>\n",
       "      <td>[Bonsai Barber, Zendoku]</td>\n",
       "      <td>[Bonsai Barber, Zendoku]</td>\n",
       "    </tr>\n",
       "    <tr>\n",
       "      <th>157</th>\n",
       "      <td>zootfly</td>\n",
       "      <td>Slovenia</td>\n",
       "      <td>First Battalion</td>\n",
       "      <td>[]</td>\n",
       "      <td>[]</td>\n",
       "    </tr>\n",
       "    <tr>\n",
       "      <th>158</th>\n",
       "      <td>zootfly</td>\n",
       "      <td>Slovenia</td>\n",
       "      <td>First Battalion</td>\n",
       "      <td>[]</td>\n",
       "      <td>[]</td>\n",
       "    </tr>\n",
       "  </tbody>\n",
       "</table>\n",
       "<p>155 rows × 5 columns</p>\n",
       "</div>"
      ],
      "text/plain": [
       "                Developer         Country  \\\n",
       "0          11 bit studios          Poland   \n",
       "1          11 bit studios          Poland   \n",
       "2                ace team           Chile   \n",
       "3               alientrap          Canada   \n",
       "4       ambrosia software   United States   \n",
       "..                    ...             ...   \n",
       "154  zoetrope interactive          Turkey   \n",
       "155                 zoink          Sweden   \n",
       "156               zoonami  United Kingdom   \n",
       "157               zootfly        Slovenia   \n",
       "158               zootfly        Slovenia   \n",
       "\n",
       "                                        Notable games  \\\n",
       "0                    AnomalyThis War of MineFrostpunk   \n",
       "1                    AnomalyThis War of MineFrostpunk   \n",
       "2                              Zeno ClashRock of Ages   \n",
       "3                                    CapsizedApotheon   \n",
       "4                              Escape Velocity series   \n",
       "..                                                ...   \n",
       "154  Darkness WithinDarkness Within: The Dark Lineage   \n",
       "155         PlayStation All-Stars IslandThe Kore Gang   \n",
       "156                              ZendokuBonsai Barber   \n",
       "157                                   First Battalion   \n",
       "158                                   First Battalion   \n",
       "\n",
       "                   selected_titles  \\\n",
       "0                               []   \n",
       "1    [This War of Mine, Frostpunk]   \n",
       "2       [Rock of Ages, Zeno Clash]   \n",
       "3                       [Apotheon]   \n",
       "4                [Escape Velocity]   \n",
       "..                             ...   \n",
       "154                             []   \n",
       "155                             []   \n",
       "156       [Bonsai Barber, Zendoku]   \n",
       "157                             []   \n",
       "158                             []   \n",
       "\n",
       "                          selected_titles_series  \n",
       "0                                             []  \n",
       "1                  [This War of Mine, Frostpunk]  \n",
       "2                     [Rock of Ages, Zeno Clash]  \n",
       "3                                     [Apotheon]  \n",
       "4    [Escape Velocity, Escape Velocity Override]  \n",
       "..                                           ...  \n",
       "154                                           []  \n",
       "155                                           []  \n",
       "156                     [Bonsai Barber, Zendoku]  \n",
       "157                                           []  \n",
       "158                                           []  \n",
       "\n",
       "[155 rows x 5 columns]"
      ]
     },
     "execution_count": 92,
     "metadata": {},
     "output_type": "execute_result"
    }
   ],
   "source": [
    "indiegamesdevelopers"
   ]
  },
  {
   "cell_type": "code",
   "execution_count": 93,
   "metadata": {
    "id": "-GLI3qOCxyRJ"
   },
   "outputs": [],
   "source": [
    "indiegamesdevelopersfilename = savePath +'indiegamesdevelopers_cleaned.csv'\n",
    "#indiegamesdevelopers.to_csv(indiegamesdevelopersfilename) "
   ]
  },
  {
   "cell_type": "code",
   "execution_count": 94,
   "metadata": {
    "id": "4rsvDcsD3Pkk"
   },
   "outputs": [
    {
     "data": {
      "text/plain": [
       "179"
      ]
     },
     "execution_count": 94,
     "metadata": {},
     "output_type": "execute_result"
    }
   ],
   "source": [
    "# indie selected_titles match\n",
    "indiegamesdevelopers.selected_titles.str.len().sum()"
   ]
  },
  {
   "cell_type": "code",
   "execution_count": 95,
   "metadata": {},
   "outputs": [
    {
     "data": {
      "text/plain": [
       "404"
      ]
     },
     "execution_count": 95,
     "metadata": {},
     "output_type": "execute_result"
    }
   ],
   "source": [
    "# indie selected_titles_series match\n",
    "indiegamesdevelopers.selected_titles_series.str.len().sum()"
   ]
  },
  {
   "cell_type": "markdown",
   "metadata": {},
   "source": [
    "deleloper_cleaning"
   ]
  },
  {
   "cell_type": "code",
   "execution_count": 106,
   "metadata": {},
   "outputs": [],
   "source": [
    "developers.rename(columns={'Notable games, series or franchises': 'Notable games'}, inplace=True)\n",
    "\n",
    "\n",
    "# match the developer with games.csv's developer\n",
    "collect = games.groupby('developers')['title'].apply(list).reset_index(name='game_titles')\n",
    "#collect = games.groupby('developers')['id'].apply(list).reset_index(name='game_index')\n",
    "collect.rename(columns={'developers': 'Developer'}, inplace=True)\n",
    "\n",
    "collect['Developer'] = collect['Developer'].apply(lambda x:x.lower())\n",
    "developers['Developer'] = developers['Developer'].apply(lambda x:x.lower())\n",
    "\n",
    "\n",
    "developers = developers.merge(collect, how ='inner', on =['Developer'])\n",
    "developers = developers.drop(columns=['City', 'Administrative division', 'Country','Est.','Notes'])\n",
    "developers = developers.dropna()\n",
    "\n",
    "def match_title(ind, game_titles, Notable_games):\n",
    "  matched_titles = []\n",
    "  for w in game_titles:    \n",
    "    if w in Notable_games:\n",
    "      matched_titles.append(w)\n",
    "  developers['selected_titles'][ind] = matched_titles\n",
    "\n",
    "def match_title_include_series(ind, game_titles, Notable_games):\n",
    "  matched_titles = []\n",
    "  for w in game_titles:\n",
    "    if 'series' in Notable_games :\n",
    "      w_words=w.split()\n",
    "      for item in w_words:\n",
    "        if item in Notable_games:\n",
    "          matched_titles.append(w)\n",
    "\n",
    "    elif w in Notable_games:\n",
    "      matched_titles.append(w)\n",
    "      \n",
    "  matched_titles = list(set(matched_titles)) \n",
    "  developers['selected_titles_series'][ind] = matched_titles\n",
    "\n",
    "developers['selected_titles']=''\n",
    "developers['selected_titles_series']=''\n",
    "for ind in developers.index:\n",
    "  match_title(ind, developers['game_titles'][ind], developers['Notable games'][ind])\n",
    "  match_title_include_series(ind, developers['game_titles'][ind], developers['Notable games'][ind])\n",
    "\n",
    "\n",
    "  \n",
    "developers = developers.drop(columns=['game_titles'])"
   ]
  },
  {
   "cell_type": "code",
   "execution_count": 107,
   "metadata": {},
   "outputs": [
    {
     "data": {
      "text/plain": [
       "517"
      ]
     },
     "execution_count": 107,
     "metadata": {},
     "output_type": "execute_result"
    }
   ],
   "source": [
    "# selected_titles match\n",
    "developers.selected_titles.str.len().sum()"
   ]
  },
  {
   "cell_type": "code",
   "execution_count": 108,
   "metadata": {},
   "outputs": [
    {
     "data": {
      "text/plain": [
       "3064"
      ]
     },
     "execution_count": 108,
     "metadata": {},
     "output_type": "execute_result"
    }
   ],
   "source": [
    "# selected_titles_series match\n",
    "developers.selected_titles_series.str.len().sum()"
   ]
  },
  {
   "cell_type": "code",
   "execution_count": 109,
   "metadata": {},
   "outputs": [
    {
     "data": {
      "text/html": [
       "<div>\n",
       "<style scoped>\n",
       "    .dataframe tbody tr th:only-of-type {\n",
       "        vertical-align: middle;\n",
       "    }\n",
       "\n",
       "    .dataframe tbody tr th {\n",
       "        vertical-align: top;\n",
       "    }\n",
       "\n",
       "    .dataframe thead th {\n",
       "        text-align: right;\n",
       "    }\n",
       "</style>\n",
       "<table border=\"1\" class=\"dataframe\">\n",
       "  <thead>\n",
       "    <tr style=\"text-align: right;\">\n",
       "      <th></th>\n",
       "      <th>Developer</th>\n",
       "      <th>Notable games</th>\n",
       "      <th>selected_titles</th>\n",
       "      <th>selected_titles_series</th>\n",
       "    </tr>\n",
       "  </thead>\n",
       "  <tbody>\n",
       "    <tr>\n",
       "      <th>0</th>\n",
       "      <td>0verflow</td>\n",
       "      <td>School DaysSummer DaysCross Days</td>\n",
       "      <td>[]</td>\n",
       "      <td>[]</td>\n",
       "    </tr>\n",
       "    <tr>\n",
       "      <th>1</th>\n",
       "      <td>11 bit studios</td>\n",
       "      <td>Frostpunk</td>\n",
       "      <td>[]</td>\n",
       "      <td>[]</td>\n",
       "    </tr>\n",
       "    <tr>\n",
       "      <th>2</th>\n",
       "      <td>11 bit studios</td>\n",
       "      <td>Frostpunk</td>\n",
       "      <td>[Frostpunk]</td>\n",
       "      <td>[Frostpunk]</td>\n",
       "    </tr>\n",
       "    <tr>\n",
       "      <th>3</th>\n",
       "      <td>1c company</td>\n",
       "      <td>King's Bounty: Warriors of the North</td>\n",
       "      <td>[]</td>\n",
       "      <td>[]</td>\n",
       "    </tr>\n",
       "    <tr>\n",
       "      <th>4</th>\n",
       "      <td>2k czech</td>\n",
       "      <td>MafiaMafia II</td>\n",
       "      <td>[Mafia II]</td>\n",
       "      <td>[Mafia II]</td>\n",
       "    </tr>\n",
       "    <tr>\n",
       "      <th>...</th>\n",
       "      <td>...</td>\n",
       "      <td>...</td>\n",
       "      <td>...</td>\n",
       "      <td>...</td>\n",
       "    </tr>\n",
       "    <tr>\n",
       "      <th>622</th>\n",
       "      <td>zipper interactive</td>\n",
       "      <td>SOCOM U.S. Navy SEALs seriesMechWarrior 3</td>\n",
       "      <td>[MechWarrior 3]</td>\n",
       "      <td>[SOCOM: U.S. Navy SEALs Combined Assault, SOCO...</td>\n",
       "    </tr>\n",
       "    <tr>\n",
       "      <th>623</th>\n",
       "      <td>zombie studios</td>\n",
       "      <td>Spec Ops: Rangers Lead the WayBlacklight: Retr...</td>\n",
       "      <td>[Blacklight: Retribution]</td>\n",
       "      <td>[Blacklight: Retribution]</td>\n",
       "    </tr>\n",
       "    <tr>\n",
       "      <th>624</th>\n",
       "      <td>zootfly</td>\n",
       "      <td>Marlow Briggs and the Mask of Death</td>\n",
       "      <td>[]</td>\n",
       "      <td>[]</td>\n",
       "    </tr>\n",
       "    <tr>\n",
       "      <th>625</th>\n",
       "      <td>zootfly</td>\n",
       "      <td>Marlow Briggs and the Mask of Death</td>\n",
       "      <td>[]</td>\n",
       "      <td>[]</td>\n",
       "    </tr>\n",
       "    <tr>\n",
       "      <th>626</th>\n",
       "      <td>zynga</td>\n",
       "      <td>FarmVilleZynga Poker</td>\n",
       "      <td>[FarmVille]</td>\n",
       "      <td>[FarmVille]</td>\n",
       "    </tr>\n",
       "  </tbody>\n",
       "</table>\n",
       "<p>585 rows × 4 columns</p>\n",
       "</div>"
      ],
      "text/plain": [
       "              Developer                                      Notable games  \\\n",
       "0              0verflow                   School DaysSummer DaysCross Days   \n",
       "1        11 bit studios                                          Frostpunk   \n",
       "2        11 bit studios                                          Frostpunk   \n",
       "3            1c company               King's Bounty: Warriors of the North   \n",
       "4              2k czech                                      MafiaMafia II   \n",
       "..                  ...                                                ...   \n",
       "622  zipper interactive          SOCOM U.S. Navy SEALs seriesMechWarrior 3   \n",
       "623      zombie studios  Spec Ops: Rangers Lead the WayBlacklight: Retr...   \n",
       "624             zootfly                Marlow Briggs and the Mask of Death   \n",
       "625             zootfly                Marlow Briggs and the Mask of Death   \n",
       "626               zynga                               FarmVilleZynga Poker   \n",
       "\n",
       "               selected_titles  \\\n",
       "0                           []   \n",
       "1                           []   \n",
       "2                  [Frostpunk]   \n",
       "3                           []   \n",
       "4                   [Mafia II]   \n",
       "..                         ...   \n",
       "622            [MechWarrior 3]   \n",
       "623  [Blacklight: Retribution]   \n",
       "624                         []   \n",
       "625                         []   \n",
       "626                [FarmVille]   \n",
       "\n",
       "                                selected_titles_series  \n",
       "0                                                   []  \n",
       "1                                                   []  \n",
       "2                                          [Frostpunk]  \n",
       "3                                                   []  \n",
       "4                                           [Mafia II]  \n",
       "..                                                 ...  \n",
       "622  [SOCOM: U.S. Navy SEALs Combined Assault, SOCO...  \n",
       "623                          [Blacklight: Retribution]  \n",
       "624                                                 []  \n",
       "625                                                 []  \n",
       "626                                        [FarmVille]  \n",
       "\n",
       "[585 rows x 4 columns]"
      ]
     },
     "execution_count": 109,
     "metadata": {},
     "output_type": "execute_result"
    }
   ],
   "source": [
    "developers"
   ]
  },
  {
   "cell_type": "code",
   "execution_count": 111,
   "metadata": {},
   "outputs": [],
   "source": [
    "devgamesdevelopersfilename = savePath +'/indiegamesdevelopers_cleaned.csv'\n",
    "#developers.to_csv(devgamesdevelopersfilename) "
   ]
  },
  {
   "cell_type": "code",
   "execution_count": null,
   "metadata": {},
   "outputs": [],
   "source": []
  }
 ],
 "metadata": {
  "colab": {
   "provenance": []
  },
  "kernelspec": {
   "display_name": "Python 3",
   "language": "python",
   "name": "python3"
  },
  "language_info": {
   "codemirror_mode": {
    "name": "ipython",
    "version": 3
   },
   "file_extension": ".py",
   "mimetype": "text/x-python",
   "name": "python",
   "nbconvert_exporter": "python",
   "pygments_lexer": "ipython3",
   "version": "3.8.8"
  }
 },
 "nbformat": 4,
 "nbformat_minor": 1
}
