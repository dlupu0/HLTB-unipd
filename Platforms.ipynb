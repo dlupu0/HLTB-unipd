{
 "cells": [
  {
   "cell_type": "markdown",
   "source": [
    "# Aggregating data about platforms from different sources\n",
    "* 'platforms_hltb.txt' and 'popular_platforms_hltb.txt': listing respectively all popular available platforms from **https://howlongtobeat.com/stats**\n",
    "* 'platforms_wikipedia.csv': table from **https://en.wikipedia.org/wiki/Home_video_game_console#Released_systems**\n",
    "* 'console_sales_vgchartz.csv': table from **https://www.vgchartz.com/charts/platform_totals/Hardware.php/**\n",
    "\n",
    "HowLongToBeat website is the main source of data. We tried to match data from the other sources based on the platform name.\n"
   ],
   "metadata": {
    "collapsed": false
   }
  },
  {
   "cell_type": "code",
   "execution_count": 256,
   "outputs": [],
   "source": [
    "import os\n",
    "import pandas as pd\n",
    "from pathlib import Path\n",
    "from datetime import datetime"
   ],
   "metadata": {
    "collapsed": false
   }
  },
  {
   "cell_type": "code",
   "execution_count": 257,
   "outputs": [],
   "source": [
    "#importing all data\n",
    "absPath = str(Path(os.path.abspath(os.getcwd())).absolute())\n",
    "datasetsPath = os.path.join(absPath, \"raw_datasets\\platforms\")\n",
    "\n",
    "popular = pd.read_csv(datasetsPath + '\\popular_platforms_hltb.txt',header=None,names=['Platform'])\n",
    "platforms = pd.read_csv(datasetsPath + '\\platforms_hltb.txt',header = None,names=['Platform'])\n",
    "wikipedia = pd.read_csv(datasetsPath + '\\platforms_wikipedia.csv')\n",
    "sales = pd.read_csv(datasetsPath + '\\console_sales_vgchartz.csv')"
   ],
   "metadata": {
    "collapsed": false
   }
  },
  {
   "cell_type": "code",
   "execution_count": 258,
   "outputs": [],
   "source": [
    "#adding popularity\n",
    "column_popular = []\n",
    "for i in range(len(popular)):\n",
    "    column_popular.append(True)\n",
    "popular['Popular']  = column_popular\n",
    "\n",
    "platforms = platforms.join(popular.set_index(\"Platform\"), on=\"Platform\")\n"
   ],
   "metadata": {
    "collapsed": false
   }
  },
  {
   "cell_type": "code",
   "execution_count": 259,
   "id": "f42a1419",
   "metadata": {},
   "outputs": [],
   "source": [
    "#adding wikipedia data\n",
    "wikipedia=wikipedia.drop(columns='Units sold')\n",
    "wikipedia = wikipedia.rename({'Name': 'Platform'}, axis=1)\n",
    "platforms = pd.merge(platforms, wikipedia,on='Platform',how='left')"
   ]
  },
  {
   "cell_type": "code",
   "execution_count": 260,
   "outputs": [],
   "source": [
    "#adding sales data\n",
    "separator = ' ('\n",
    "acronym = {}\n",
    "sales['Acronym']=''\n",
    "\n",
    "#platforms have names like \"PlayStation 3 (PS3)\". Match on \"Playstation 3\" to merge and keep \"PS3\" as acronym.\n",
    "for i in platforms['Platform']:\n",
    "    for e in range(len(sales['Platform'])):\n",
    "        value = sales.loc[e,'Platform']\n",
    "        if i == value.split(separator)[0]:\n",
    "            sales.loc[e,'Platform'] = value.split(separator)[0]\n",
    "            sales.loc[e,'Acronym'] = value.split(separator)[1][:-1]\n",
    "\n",
    "platforms = pd.merge(platforms, sales, on='Platform', how='left')"
   ],
   "metadata": {
    "collapsed": false
   }
  },
  {
   "cell_type": "code",
   "execution_count": 261,
   "outputs": [
    {
     "data": {
      "text/plain": "            Platform Popular Release date  \\\n0                3DO     NaN   1993-10-04   \n1   Acorn Archimedes     NaN         None   \n2        Amazon Luna     NaN         None   \n3              Amiga     NaN         None   \n4         Amiga CD32     NaN   1993-09-17   \n..               ...     ...          ...   \n91          Xbox One    True   2013-11-22   \n92   Xbox Series X/S    True   2020-11-10   \n93             Zeebo     NaN   2009-05-25   \n94       ZX Spectrum     NaN         None   \n95              ZX81     NaN         None   \n\n                                      Manufacturer  \\\n0   Panasonic/Sanyo (Japan)/GoldStar (South Korea)   \n1                                              NaN   \n2                                              NaN   \n3                                              NaN   \n4                               Commodore (Canada)   \n..                                             ...   \n91                                Microsoft (U.S.)   \n92                                Microsoft (U.S.)   \n93             Zeebo Inc. (U.S.) / TecToy (Brazil)   \n94                                             NaN   \n95                                             NaN   \n\n                                                  CPU        \"Bits\"  \\\n0   RISC CPU ARM60 based on ARM architecture @ 12....        32-bit   \n1                                                 NaN           NaN   \n2                                                 NaN           NaN   \n3                                                 NaN           NaN   \n4   Motorola 68EC020@ 14.18 MHz (PAL) 14.32 MHz (N...        32-bit   \n..                                                ...           ...   \n91  Custom 1.75 GHz AMD 8-core APU (2 quad-core Ja...  64-bit (CPU)   \n92  Custom 8-core AMD Zen 2;Series X: 3.8 GHz, 3.6...  64-bit (CPU)   \n93  ARM11 / QDSP-5 in Qualcomm MSM SoC running at ...  32-bit (CPU)   \n94                                                NaN           NaN   \n95                                                NaN           NaN   \n\n    North America  Europe  Japan  Rest of World  Global Acronym  \n0             NaN     NaN    NaN            NaN     NaN     NaN  \n1             NaN     NaN    NaN            NaN     NaN     NaN  \n2             NaN     NaN    NaN            NaN     NaN     NaN  \n3             NaN     NaN    NaN            NaN     NaN     NaN  \n4             NaN    0.10    NaN            NaN    0.10    CD32  \n..            ...     ...    ...            ...     ...     ...  \n91          31.61   13.01   0.12           6.54   51.28    XOne  \n92           8.95    4.76   0.37           3.42   17.51      XS  \n93            NaN     NaN    NaN            NaN     NaN     NaN  \n94            NaN     NaN    NaN            NaN     NaN     NaN  \n95            NaN     NaN    NaN            NaN     NaN     NaN  \n\n[96 rows x 12 columns]",
      "text/html": "<div>\n<style scoped>\n    .dataframe tbody tr th:only-of-type {\n        vertical-align: middle;\n    }\n\n    .dataframe tbody tr th {\n        vertical-align: top;\n    }\n\n    .dataframe thead th {\n        text-align: right;\n    }\n</style>\n<table border=\"1\" class=\"dataframe\">\n  <thead>\n    <tr style=\"text-align: right;\">\n      <th></th>\n      <th>Platform</th>\n      <th>Popular</th>\n      <th>Release date</th>\n      <th>Manufacturer</th>\n      <th>CPU</th>\n      <th>\"Bits\"</th>\n      <th>North America</th>\n      <th>Europe</th>\n      <th>Japan</th>\n      <th>Rest of World</th>\n      <th>Global</th>\n      <th>Acronym</th>\n    </tr>\n  </thead>\n  <tbody>\n    <tr>\n      <th>0</th>\n      <td>3DO</td>\n      <td>NaN</td>\n      <td>1993-10-04</td>\n      <td>Panasonic/Sanyo (Japan)/GoldStar (South Korea)</td>\n      <td>RISC CPU ARM60 based on ARM architecture @ 12....</td>\n      <td>32-bit</td>\n      <td>NaN</td>\n      <td>NaN</td>\n      <td>NaN</td>\n      <td>NaN</td>\n      <td>NaN</td>\n      <td>NaN</td>\n    </tr>\n    <tr>\n      <th>1</th>\n      <td>Acorn Archimedes</td>\n      <td>NaN</td>\n      <td>None</td>\n      <td>NaN</td>\n      <td>NaN</td>\n      <td>NaN</td>\n      <td>NaN</td>\n      <td>NaN</td>\n      <td>NaN</td>\n      <td>NaN</td>\n      <td>NaN</td>\n      <td>NaN</td>\n    </tr>\n    <tr>\n      <th>2</th>\n      <td>Amazon Luna</td>\n      <td>NaN</td>\n      <td>None</td>\n      <td>NaN</td>\n      <td>NaN</td>\n      <td>NaN</td>\n      <td>NaN</td>\n      <td>NaN</td>\n      <td>NaN</td>\n      <td>NaN</td>\n      <td>NaN</td>\n      <td>NaN</td>\n    </tr>\n    <tr>\n      <th>3</th>\n      <td>Amiga</td>\n      <td>NaN</td>\n      <td>None</td>\n      <td>NaN</td>\n      <td>NaN</td>\n      <td>NaN</td>\n      <td>NaN</td>\n      <td>NaN</td>\n      <td>NaN</td>\n      <td>NaN</td>\n      <td>NaN</td>\n      <td>NaN</td>\n    </tr>\n    <tr>\n      <th>4</th>\n      <td>Amiga CD32</td>\n      <td>NaN</td>\n      <td>1993-09-17</td>\n      <td>Commodore (Canada)</td>\n      <td>Motorola 68EC020@ 14.18 MHz (PAL) 14.32 MHz (N...</td>\n      <td>32-bit</td>\n      <td>NaN</td>\n      <td>0.10</td>\n      <td>NaN</td>\n      <td>NaN</td>\n      <td>0.10</td>\n      <td>CD32</td>\n    </tr>\n    <tr>\n      <th>...</th>\n      <td>...</td>\n      <td>...</td>\n      <td>...</td>\n      <td>...</td>\n      <td>...</td>\n      <td>...</td>\n      <td>...</td>\n      <td>...</td>\n      <td>...</td>\n      <td>...</td>\n      <td>...</td>\n      <td>...</td>\n    </tr>\n    <tr>\n      <th>91</th>\n      <td>Xbox One</td>\n      <td>True</td>\n      <td>2013-11-22</td>\n      <td>Microsoft (U.S.)</td>\n      <td>Custom 1.75 GHz AMD 8-core APU (2 quad-core Ja...</td>\n      <td>64-bit (CPU)</td>\n      <td>31.61</td>\n      <td>13.01</td>\n      <td>0.12</td>\n      <td>6.54</td>\n      <td>51.28</td>\n      <td>XOne</td>\n    </tr>\n    <tr>\n      <th>92</th>\n      <td>Xbox Series X/S</td>\n      <td>True</td>\n      <td>2020-11-10</td>\n      <td>Microsoft (U.S.)</td>\n      <td>Custom 8-core AMD Zen 2;Series X: 3.8 GHz, 3.6...</td>\n      <td>64-bit (CPU)</td>\n      <td>8.95</td>\n      <td>4.76</td>\n      <td>0.37</td>\n      <td>3.42</td>\n      <td>17.51</td>\n      <td>XS</td>\n    </tr>\n    <tr>\n      <th>93</th>\n      <td>Zeebo</td>\n      <td>NaN</td>\n      <td>2009-05-25</td>\n      <td>Zeebo Inc. (U.S.) / TecToy (Brazil)</td>\n      <td>ARM11 / QDSP-5 in Qualcomm MSM SoC running at ...</td>\n      <td>32-bit (CPU)</td>\n      <td>NaN</td>\n      <td>NaN</td>\n      <td>NaN</td>\n      <td>NaN</td>\n      <td>NaN</td>\n      <td>NaN</td>\n    </tr>\n    <tr>\n      <th>94</th>\n      <td>ZX Spectrum</td>\n      <td>NaN</td>\n      <td>None</td>\n      <td>NaN</td>\n      <td>NaN</td>\n      <td>NaN</td>\n      <td>NaN</td>\n      <td>NaN</td>\n      <td>NaN</td>\n      <td>NaN</td>\n      <td>NaN</td>\n      <td>NaN</td>\n    </tr>\n    <tr>\n      <th>95</th>\n      <td>ZX81</td>\n      <td>NaN</td>\n      <td>None</td>\n      <td>NaN</td>\n      <td>NaN</td>\n      <td>NaN</td>\n      <td>NaN</td>\n      <td>NaN</td>\n      <td>NaN</td>\n      <td>NaN</td>\n      <td>NaN</td>\n      <td>NaN</td>\n    </tr>\n  </tbody>\n</table>\n<p>96 rows × 12 columns</p>\n</div>"
     },
     "execution_count": 261,
     "metadata": {},
     "output_type": "execute_result"
    }
   ],
   "source": [
    "#process dates\n",
    "def parse_date(datestring):\n",
    "    try:\n",
    "        return datetime.strptime(datestring, '%B %d, %Y').date()\n",
    "    except:\n",
    "        try:\n",
    "            return datetime.strptime(datestring, '%B %Y').date()\n",
    "        except:\n",
    "            try:\n",
    "                return datetime.strptime(datestring, '%Y').date()\n",
    "            except:\n",
    "                return\n",
    "\n",
    "\n",
    "\n",
    "for i in range(len(platforms)):\n",
    "    platforms.loc[i,\"Release date\"] = parse_date(platforms.loc[i,\"Release date\"])\n",
    "\n",
    "platforms.to_csv('cleaned_datasets\\platforms.csv',index=False)\n",
    "platforms"
   ],
   "metadata": {
    "collapsed": false
   }
  }
 ],
 "metadata": {
  "kernelspec": {
   "display_name": "Python 3 (ipykernel)",
   "language": "python",
   "name": "python3"
  },
  "language_info": {
   "codemirror_mode": {
    "name": "ipython",
    "version": 3
   },
   "file_extension": ".py",
   "mimetype": "text/x-python",
   "name": "python",
   "nbconvert_exporter": "python",
   "pygments_lexer": "ipython3",
   "version": "3.9.13"
  }
 },
 "nbformat": 4,
 "nbformat_minor": 5
}
